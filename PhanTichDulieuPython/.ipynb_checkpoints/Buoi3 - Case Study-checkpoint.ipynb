{
 "cells": [
  {
   "cell_type": "code",
   "execution_count": 1,
   "metadata": {},
   "outputs": [],
   "source": [
    "import matplotlib.pyplot as plt\n",
    "import pandas as pd"
   ]
  },
  {
   "cell_type": "code",
   "execution_count": 2,
   "metadata": {},
   "outputs": [],
   "source": [
    "data = pd.read_csv(\"data_cleaned.csv\")"
   ]
  },
  {
   "cell_type": "code",
   "execution_count": 3,
   "metadata": {},
   "outputs": [
    {
     "data": {
      "text/html": [
       "<div>\n",
       "<style scoped>\n",
       "    .dataframe tbody tr th:only-of-type {\n",
       "        vertical-align: middle;\n",
       "    }\n",
       "\n",
       "    .dataframe tbody tr th {\n",
       "        vertical-align: top;\n",
       "    }\n",
       "\n",
       "    .dataframe thead th {\n",
       "        text-align: right;\n",
       "    }\n",
       "</style>\n",
       "<table border=\"1\" class=\"dataframe\">\n",
       "  <thead>\n",
       "    <tr style=\"text-align: right;\">\n",
       "      <th></th>\n",
       "      <th>Unnamed: 0</th>\n",
       "      <th>Reference Number</th>\n",
       "      <th>Grid Ref: Easting</th>\n",
       "      <th>Grid Ref: Northing</th>\n",
       "      <th>Number of Vehicles</th>\n",
       "      <th>Accident Date</th>\n",
       "      <th>Time (24hr)</th>\n",
       "      <th>1st Road Class &amp; No</th>\n",
       "      <th>Road Surface</th>\n",
       "      <th>Lighting Conditions</th>\n",
       "      <th>...</th>\n",
       "      <th>Casualty Severity</th>\n",
       "      <th>Sex of Casualty</th>\n",
       "      <th>Age of Casualty</th>\n",
       "      <th>Gender</th>\n",
       "      <th>Year</th>\n",
       "      <th>Month</th>\n",
       "      <th>Day</th>\n",
       "      <th>TypeRoad</th>\n",
       "      <th>Hour</th>\n",
       "      <th>Minute</th>\n",
       "    </tr>\n",
       "  </thead>\n",
       "  <tbody>\n",
       "    <tr>\n",
       "      <th>0</th>\n",
       "      <td>0</td>\n",
       "      <td>3AP0313</td>\n",
       "      <td>426340</td>\n",
       "      <td>428455</td>\n",
       "      <td>1</td>\n",
       "      <td>17/03/2017</td>\n",
       "      <td>815</td>\n",
       "      <td>A643</td>\n",
       "      <td>Dry</td>\n",
       "      <td>Daylight: Street lights present</td>\n",
       "      <td>...</td>\n",
       "      <td>Serious</td>\n",
       "      <td>Female</td>\n",
       "      <td>61</td>\n",
       "      <td>2</td>\n",
       "      <td>2017</td>\n",
       "      <td>3</td>\n",
       "      <td>17</td>\n",
       "      <td>A</td>\n",
       "      <td>8</td>\n",
       "      <td>15</td>\n",
       "    </tr>\n",
       "    <tr>\n",
       "      <th>1</th>\n",
       "      <td>1</td>\n",
       "      <td>3BE0850</td>\n",
       "      <td>430828</td>\n",
       "      <td>433222</td>\n",
       "      <td>2</td>\n",
       "      <td>14/01/2017</td>\n",
       "      <td>1330</td>\n",
       "      <td>A61</td>\n",
       "      <td>Dry</td>\n",
       "      <td>Daylight: Street lights present</td>\n",
       "      <td>...</td>\n",
       "      <td>Slight</td>\n",
       "      <td>Male</td>\n",
       "      <td>36</td>\n",
       "      <td>1</td>\n",
       "      <td>2017</td>\n",
       "      <td>1</td>\n",
       "      <td>14</td>\n",
       "      <td>A</td>\n",
       "      <td>13</td>\n",
       "      <td>30</td>\n",
       "    </tr>\n",
       "    <tr>\n",
       "      <th>2</th>\n",
       "      <td>2</td>\n",
       "      <td>4110858</td>\n",
       "      <td>428940</td>\n",
       "      <td>429856</td>\n",
       "      <td>2</td>\n",
       "      <td>01/01/2017</td>\n",
       "      <td>805</td>\n",
       "      <td>A653</td>\n",
       "      <td>Wet/Damp</td>\n",
       "      <td>Daylight: Street lights present</td>\n",
       "      <td>...</td>\n",
       "      <td>Slight</td>\n",
       "      <td>Male</td>\n",
       "      <td>32</td>\n",
       "      <td>1</td>\n",
       "      <td>2017</td>\n",
       "      <td>1</td>\n",
       "      <td>1</td>\n",
       "      <td>A</td>\n",
       "      <td>8</td>\n",
       "      <td>5</td>\n",
       "    </tr>\n",
       "    <tr>\n",
       "      <th>3</th>\n",
       "      <td>3</td>\n",
       "      <td>4110858</td>\n",
       "      <td>428940</td>\n",
       "      <td>429856</td>\n",
       "      <td>2</td>\n",
       "      <td>01/01/2017</td>\n",
       "      <td>805</td>\n",
       "      <td>A653</td>\n",
       "      <td>Wet/Damp</td>\n",
       "      <td>Daylight: Street lights present</td>\n",
       "      <td>...</td>\n",
       "      <td>Slight</td>\n",
       "      <td>Male</td>\n",
       "      <td>30</td>\n",
       "      <td>1</td>\n",
       "      <td>2017</td>\n",
       "      <td>1</td>\n",
       "      <td>1</td>\n",
       "      <td>A</td>\n",
       "      <td>8</td>\n",
       "      <td>5</td>\n",
       "    </tr>\n",
       "    <tr>\n",
       "      <th>4</th>\n",
       "      <td>4</td>\n",
       "      <td>4111495</td>\n",
       "      <td>429899</td>\n",
       "      <td>434277</td>\n",
       "      <td>2</td>\n",
       "      <td>01/01/2017</td>\n",
       "      <td>1705</td>\n",
       "      <td>U</td>\n",
       "      <td>Wet/Damp</td>\n",
       "      <td>Darkness: Street lights present and lit</td>\n",
       "      <td>...</td>\n",
       "      <td>Slight</td>\n",
       "      <td>Female</td>\n",
       "      <td>26</td>\n",
       "      <td>2</td>\n",
       "      <td>2017</td>\n",
       "      <td>1</td>\n",
       "      <td>1</td>\n",
       "      <td>Unclassified</td>\n",
       "      <td>17</td>\n",
       "      <td>5</td>\n",
       "    </tr>\n",
       "  </tbody>\n",
       "</table>\n",
       "<p>5 rows × 23 columns</p>\n",
       "</div>"
      ],
      "text/plain": [
       "   Unnamed: 0 Reference Number  Grid Ref: Easting  Grid Ref: Northing  \\\n",
       "0           0          3AP0313             426340              428455   \n",
       "1           1          3BE0850             430828              433222   \n",
       "2           2          4110858             428940              429856   \n",
       "3           3          4110858             428940              429856   \n",
       "4           4          4111495             429899              434277   \n",
       "\n",
       "   Number of Vehicles Accident Date  Time (24hr) 1st Road Class & No  \\\n",
       "0                   1    17/03/2017          815                A643   \n",
       "1                   2    14/01/2017         1330                 A61   \n",
       "2                   2    01/01/2017          805                A653   \n",
       "3                   2    01/01/2017          805                A653   \n",
       "4                   2    01/01/2017         1705                   U   \n",
       "\n",
       "  Road Surface                      Lighting Conditions   ...    \\\n",
       "0          Dry          Daylight: Street lights present   ...     \n",
       "1          Dry          Daylight: Street lights present   ...     \n",
       "2     Wet/Damp          Daylight: Street lights present   ...     \n",
       "3     Wet/Damp          Daylight: Street lights present   ...     \n",
       "4     Wet/Damp  Darkness: Street lights present and lit   ...     \n",
       "\n",
       "  Casualty Severity Sex of Casualty Age of Casualty Gender  Year  Month  Day  \\\n",
       "0           Serious          Female              61      2  2017      3   17   \n",
       "1            Slight            Male              36      1  2017      1   14   \n",
       "2            Slight            Male              32      1  2017      1    1   \n",
       "3            Slight            Male              30      1  2017      1    1   \n",
       "4            Slight          Female              26      2  2017      1    1   \n",
       "\n",
       "       TypeRoad  Hour  Minute  \n",
       "0             A     8      15  \n",
       "1             A    13      30  \n",
       "2             A     8       5  \n",
       "3             A     8       5  \n",
       "4  Unclassified    17       5  \n",
       "\n",
       "[5 rows x 23 columns]"
      ]
     },
     "execution_count": 3,
     "metadata": {},
     "output_type": "execute_result"
    }
   ],
   "source": [
    "data.head()"
   ]
  },
  {
   "cell_type": "markdown",
   "metadata": {},
   "source": [
    "## Biểu đồ thống kê số vụ tai nạn theo các tháng"
   ]
  },
  {
   "cell_type": "code",
   "execution_count": 4,
   "metadata": {},
   "outputs": [],
   "source": [
    "# biểu đồ đường"
   ]
  },
  {
   "cell_type": "code",
   "execution_count": 5,
   "metadata": {},
   "outputs": [],
   "source": [
    "list_Month =  data['Month'].value_counts()"
   ]
  },
  {
   "cell_type": "code",
   "execution_count": 6,
   "metadata": {},
   "outputs": [],
   "source": [
    "pd_month = pd.DataFrame()\n",
    "list_index = []\n",
    "list_values = []\n",
    "for i in range(1, 13):\n",
    "    list_index.append(i)\n",
    "    list_values.append(list_Month[i])\n",
    "pd_month['month'] = list_index\n",
    "pd_month['values'] = list_values\n"
   ]
  },
  {
   "cell_type": "code",
   "execution_count": 7,
   "metadata": {},
   "outputs": [
    {
     "data": {
      "text/plain": [
       "([<matplotlib.axis.XTick at 0x1fd39b8a940>,\n",
       "  <matplotlib.axis.XTick at 0x1fd39b8a278>,\n",
       "  <matplotlib.axis.XTick at 0x1fd39b8a0b8>,\n",
       "  <matplotlib.axis.XTick at 0x1fd39c09c88>,\n",
       "  <matplotlib.axis.XTick at 0x1fd39c23198>,\n",
       "  <matplotlib.axis.XTick at 0x1fd39c23630>,\n",
       "  <matplotlib.axis.XTick at 0x1fd39c236d8>,\n",
       "  <matplotlib.axis.XTick at 0x1fd39c23c50>,\n",
       "  <matplotlib.axis.XTick at 0x1fd39c2a198>,\n",
       "  <matplotlib.axis.XTick at 0x1fd39c2a6a0>,\n",
       "  <matplotlib.axis.XTick at 0x1fd39c2aba8>,\n",
       "  <matplotlib.axis.XTick at 0x1fd39c34160>],\n",
       " <a list of 12 Text xticklabel objects>)"
      ]
     },
     "execution_count": 7,
     "metadata": {},
     "output_type": "execute_result"
    },
    {
     "data": {
      "image/png": "[encoded data removed]",
      "text/plain": [
       "<Figure size 576x576 with 1 Axes>"
      ]
     },
     "metadata": {
      "needs_background": "light"
     },
     "output_type": "display_data"
    }
   ],
   "source": [
    "xticks = pd_month['month']\n",
    "plt.figure(figsize=(8,8))\n",
    "plt.plot(pd_month['month'], pd_month['values'], color='#f39c12', marker='o', linestyle='solid')\n",
    "plt.title(\"Accident By Month\")\n",
    "plt.xlabel(\"Month\")\n",
    "plt.ylabel(\"Num Accident\")\n",
    "plt.xticks(xticks)\n"
   ]
  },
  {
   "cell_type": "markdown",
   "metadata": {},
   "source": [
    "## Biểu đồ thống kê phần trăm về giới tính nạn nhân"
   ]
  },
  {
   "cell_type": "code",
   "execution_count": 8,
   "metadata": {},
   "outputs": [],
   "source": [
    "# biểu đồ pie"
   ]
  },
  {
   "cell_type": "code",
   "execution_count": 26,
   "metadata": {},
   "outputs": [
    {
     "data": {
      "text/plain": [
       "Male      1244\n",
       "Female     941\n",
       "Name: Sex of Casualty, dtype: int64"
      ]
     },
     "execution_count": 26,
     "metadata": {},
     "output_type": "execute_result"
    }
   ],
   "source": [
    "list_gender =  data['Sex of Casualty'].value_counts()\n",
    "list_gender"
   ]
  },
  {
   "cell_type": "code",
   "execution_count": 27,
   "metadata": {},
   "outputs": [],
   "source": [
    "per_male = list_gender[0] / (list_gender[1] + list_gender[0])\n",
    "per_female = 1 - per_male"
   ]
  },
  {
   "cell_type": "code",
   "execution_count": 33,
   "metadata": {},
   "outputs": [
    {
     "data": {
      "image/png": "[encoded data removed]",
      "text/plain": [
       "<Figure size 432x288 with 1 Axes>"
      ]
     },
     "metadata": {},
     "output_type": "display_data"
    },
    {
     "data": {
      "text/plain": [
       "<Figure size 576x576 with 0 Axes>"
      ]
     },
     "metadata": {},
     "output_type": "display_data"
    }
   ],
   "source": [
    "labels = 'Female', 'Male'\n",
    "sizes = [per_female, per_male ]\n",
    "explode = (0, 0.1) \n",
    "\n",
    "fig1, ax1 = plt.subplots()\n",
    "ax1.pie(sizes, explode=explode, labels=labels, autopct='%1.1f%%',\n",
    "        shadow=True, startangle=90)\n",
    "ax1.axis('equal')  \n",
    "plt.title(\"Percent of Gender \")\n",
    "plt.figure(figsize=(8,8))\n",
    "\n",
    "plt.show()"
   ]
  },
  {
   "cell_type": "markdown",
   "metadata": {},
   "source": [
    "## Biểu đồ thống kê số vụ tai nạn theo độ tuổi"
   ]
  },
  {
   "cell_type": "code",
   "execution_count": 11,
   "metadata": {},
   "outputs": [],
   "source": [
    "# biểu đồ bar chart"
   ]
  },
  {
   "cell_type": "markdown",
   "metadata": {},
   "source": [
    "## Biểu đồ thống kê số vụ tai nạn trên từng loại đường"
   ]
  },
  {
   "cell_type": "code",
   "execution_count": 12,
   "metadata": {},
   "outputs": [],
   "source": [
    "# biểu đồ bar chart"
   ]
  },
  {
   "cell_type": "code",
   "execution_count": 53,
   "metadata": {},
   "outputs": [
    {
     "data": {
      "text/plain": [
       "Unclassified    1124\n",
       "A                776\n",
       "Motorway         164\n",
       "B                112\n",
       "C                  9\n",
       "Name: TypeRoad, dtype: int64"
      ]
     },
     "execution_count": 53,
     "metadata": {},
     "output_type": "execute_result"
    }
   ],
   "source": [
    "list_road =  data['TypeRoad'].value_counts()\n",
    "list_road"
   ]
  },
  {
   "cell_type": "code",
   "execution_count": 54,
   "metadata": {},
   "outputs": [],
   "source": [
    "pd_road = pd.DataFrame()\n",
    "list_index = []\n",
    "list_values = []\n",
    "for i in range(0, len(list_road)):\n",
    "    list_index.append(list_road[i])\n",
    "    list_values.append(list_road[i])\n",
    "pd_road['type'] = list_index\n",
    "pd_road['values'] = list_values"
   ]
  },
  {
   "cell_type": "code",
   "execution_count": 55,
   "metadata": {},
   "outputs": [
    {
     "data": {
      "text/html": [
       "<div>\n",
       "<style scoped>\n",
       "    .dataframe tbody tr th:only-of-type {\n",
       "        vertical-align: middle;\n",
       "    }\n",
       "\n",
       "    .dataframe tbody tr th {\n",
       "        vertical-align: top;\n",
       "    }\n",
       "\n",
       "    .dataframe thead th {\n",
       "        text-align: right;\n",
       "    }\n",
       "</style>\n",
       "<table border=\"1\" class=\"dataframe\">\n",
       "  <thead>\n",
       "    <tr style=\"text-align: right;\">\n",
       "      <th></th>\n",
       "      <th>type</th>\n",
       "      <th>values</th>\n",
       "    </tr>\n",
       "  </thead>\n",
       "  <tbody>\n",
       "    <tr>\n",
       "      <th>0</th>\n",
       "      <td>1124</td>\n",
       "      <td>1124</td>\n",
       "    </tr>\n",
       "    <tr>\n",
       "      <th>1</th>\n",
       "      <td>776</td>\n",
       "      <td>776</td>\n",
       "    </tr>\n",
       "    <tr>\n",
       "      <th>2</th>\n",
       "      <td>164</td>\n",
       "      <td>164</td>\n",
       "    </tr>\n",
       "    <tr>\n",
       "      <th>3</th>\n",
       "      <td>112</td>\n",
       "      <td>112</td>\n",
       "    </tr>\n",
       "    <tr>\n",
       "      <th>4</th>\n",
       "      <td>9</td>\n",
       "      <td>9</td>\n",
       "    </tr>\n",
       "  </tbody>\n",
       "</table>\n",
       "</div>"
      ],
      "text/plain": [
       "   type  values\n",
       "0  1124    1124\n",
       "1   776     776\n",
       "2   164     164\n",
       "3   112     112\n",
       "4     9       9"
      ]
     },
     "execution_count": 55,
     "metadata": {},
     "output_type": "execute_result"
    }
   ],
   "source": [
    "pd_road"
   ]
  },
  {
   "cell_type": "code",
   "execution_count": 56,
   "metadata": {},
   "outputs": [
    {
     "data": {
      "image/png": "[encoded data removed]",
      "text/plain": [
       "<Figure size 432x288 with 1 Axes>"
      ]
     },
     "metadata": {
      "needs_background": "light"
     },
     "output_type": "display_data"
    }
   ],
   "source": [
    "colors = [\"#2ecc71\", \"#16a085\", \"#2c3e50\", \"#e67e22\", \"#3498db\"]\n",
    "plt.bar(pd_road['type'], pd_road['values'], color=colors)\n",
    "plt.show()"
   ]
  },
  {
   "cell_type": "code",
   "execution_count": null,
   "metadata": {},
   "outputs": [],
   "source": []
  }
 ],
 "metadata": {
  "kernelspec": {
   "display_name": "Python 3",
   "language": "python",
   "name": "python3"
  },
  "language_info": {
   "codemirror_mode": {
    "name": "ipython",
    "version": 3
   },
   "file_extension": ".py",
   "mimetype": "text/x-python",
   "name": "python",
   "nbconvert_exporter": "python",
   "pygments_lexer": "ipython3",
   "version": "3.7.1"
  }
 },
 "nbformat": 4,
 "nbformat_minor": 2
}
