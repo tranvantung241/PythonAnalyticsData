{
 "cells": [
  {
   "cell_type": "markdown",
   "metadata": {},
   "source": [
    "# Import thư viện"
   ]
  },
  {
   "cell_type": "code",
   "execution_count": 1,
   "metadata": {},
   "outputs": [],
   "source": [
    "import pandas as pd\n",
    "import numpy as np"
   ]
  },
  {
   "cell_type": "markdown",
   "metadata": {},
   "source": [
    "# Đọc file csv"
   ]
  },
  {
   "cell_type": "code",
   "execution_count": 2,
   "metadata": {},
   "outputs": [],
   "source": [
    "def check_size(df):\n",
    "    return df.shape"
   ]
  },
  {
   "cell_type": "code",
   "execution_count": 3,
   "metadata": {},
   "outputs": [],
   "source": [
    "missing_values = [\"n/a\", \"na\", \"--\"]"
   ]
  },
  {
   "cell_type": "code",
   "execution_count": 4,
   "metadata": {},
   "outputs": [],
   "source": [
    "data  =  pd.read_csv('2017.csv', na_values= missing_values)"
   ]
  },
  {
   "cell_type": "code",
   "execution_count": 5,
   "metadata": {},
   "outputs": [
    {
     "data": {
      "text/plain": [
       "(2203, 15)"
      ]
     },
     "execution_count": 5,
     "metadata": {},
     "output_type": "execute_result"
    }
   ],
   "source": [
    "check_size(data)"
   ]
  },
  {
   "cell_type": "markdown",
   "metadata": {},
   "source": [
    "### Các trường dữ liệu"
   ]
  },
  {
   "cell_type": "code",
   "execution_count": 6,
   "metadata": {},
   "outputs": [
    {
     "data": {
      "text/plain": [
       "Index(['Reference Number', 'Grid Ref: Easting', 'Grid Ref: Northing',\n",
       "       'Number of Vehicles', 'Accident Date', 'Time (24hr)',\n",
       "       '1st Road Class & No', 'Road Surface', 'Lighting Conditions',\n",
       "       'Weather Conditions', 'Type of Vehicle', 'Casualty Class',\n",
       "       'Casualty Severity', 'Sex of Casualty', 'Age of Casualty'],\n",
       "      dtype='object')"
      ]
     },
     "execution_count": 6,
     "metadata": {},
     "output_type": "execute_result"
    }
   ],
   "source": [
    "data.columns"
   ]
  },
  {
   "cell_type": "code",
   "execution_count": 7,
   "metadata": {},
   "outputs": [
    {
     "data": {
      "text/plain": [
       "Reference Number       object\n",
       "Grid Ref: Easting       int64\n",
       "Grid Ref: Northing      int64\n",
       "Number of Vehicles      int64\n",
       "Accident Date          object\n",
       "Time (24hr)             int64\n",
       "1st Road Class & No    object\n",
       "Road Surface           object\n",
       "Lighting Conditions    object\n",
       "Weather Conditions     object\n",
       "Type of Vehicle        object\n",
       "Casualty Class         object\n",
       "Casualty Severity      object\n",
       "Sex of Casualty        object\n",
       "Age of Casualty         int64\n",
       "dtype: object"
      ]
     },
     "execution_count": 7,
     "metadata": {},
     "output_type": "execute_result"
    }
   ],
   "source": [
    "data.dtypes"
   ]
  },
  {
   "cell_type": "markdown",
   "metadata": {},
   "source": [
    "###  Xem các giá trị của từng trường"
   ]
  },
  {
   "cell_type": "code",
   "execution_count": 8,
   "metadata": {},
   "outputs": [
    {
     "data": {
      "text/plain": [
       "array(['Dry', 'Wet/Damp', 'Frost/Ice', 'Snow'], dtype=object)"
      ]
     },
     "execution_count": 8,
     "metadata": {},
     "output_type": "execute_result"
    }
   ],
   "source": [
    "data[\"Road Surface\"].unique()"
   ]
  },
  {
   "cell_type": "code",
   "execution_count": 9,
   "metadata": {},
   "outputs": [
    {
     "data": {
      "text/plain": [
       "array(['Daylight: Street lights present',\n",
       "       'Darkness: Street lights present and lit',\n",
       "       'Darkness: No street lighting',\n",
       "       'Darkness: Street lighting unknown',\n",
       "       'Darkness: Street lights present but unlit',\n",
       "       'Darkness: Street lights present and lit and lit', nan],\n",
       "      dtype=object)"
      ]
     },
     "execution_count": 9,
     "metadata": {},
     "output_type": "execute_result"
    }
   ],
   "source": [
    "data[\"Lighting Conditions\"].unique()"
   ]
  },
  {
   "cell_type": "code",
   "execution_count": 10,
   "metadata": {},
   "outputs": [
    {
     "data": {
      "text/plain": [
       "array(['Car', 'Pedal cycle',\n",
       "       'Motorcycle 12Motorcycle over 500cccc to Motorcycle over 500cc00cc',\n",
       "       'Motorcycle Motorcycle over 500cc0cc and under',\n",
       "       'Taxi/Private hire car', 'Car0', 'Pedal cyclePedal cycle',\n",
       "       'Motorcycle Motorcycle over 500cc0cc to 12Motorcycle over 500cccc',\n",
       "       'Pedal cycleCar',\n",
       "       'Motorcycle Motorcycle over 500cc0cc and underPedal cycle',\n",
       "       'Motorcycle Motorcycle over 500cc0cc and under0',\n",
       "       'Motorcycle over 500cc', 'Car7', 'Pedal cycle0',\n",
       "       'CarTaxi/Private hire car',\n",
       "       'Motorcycle Motorcycle over 500cc0cc and underMotorcycle Motorcycle over 500cc0cc and under'],\n",
       "      dtype=object)"
      ]
     },
     "execution_count": 10,
     "metadata": {},
     "output_type": "execute_result"
    }
   ],
   "source": [
    "data[\"Type of Vehicle\"].unique()"
   ]
  },
  {
   "cell_type": "code",
   "execution_count": 11,
   "metadata": {},
   "outputs": [
    {
     "data": {
      "text/plain": [
       "array(['Other', 'Fine without high winds', 'Raining without high winds',\n",
       "       'Fine with high winds', 'Fog or mist (if hazard)',\n",
       "       'Raining with high winds', 'Snowing with high winds',\n",
       "       'Snowing without high winds'], dtype=object)"
      ]
     },
     "execution_count": 11,
     "metadata": {},
     "output_type": "execute_result"
    }
   ],
   "source": [
    "data[\"Weather Conditions\"].unique()"
   ]
  },
  {
   "cell_type": "code",
   "execution_count": 12,
   "metadata": {},
   "outputs": [
    {
     "data": {
      "text/plain": [
       "array(['Pedestrian', 'Driver or rider', 'Vehicle or pillion passenger'],\n",
       "      dtype=object)"
      ]
     },
     "execution_count": 12,
     "metadata": {},
     "output_type": "execute_result"
    }
   ],
   "source": [
    "data[\"Casualty Class\"].unique()"
   ]
  },
  {
   "cell_type": "code",
   "execution_count": 13,
   "metadata": {},
   "outputs": [
    {
     "data": {
      "text/plain": [
       "array(['Serious', 'Slight', 'Fatal'], dtype=object)"
      ]
     },
     "execution_count": 13,
     "metadata": {},
     "output_type": "execute_result"
    }
   ],
   "source": [
    "data[\"Casualty Severity\"].unique()"
   ]
  },
  {
   "cell_type": "markdown",
   "metadata": {},
   "source": [
    "### Kiểm tra giá trị null  "
   ]
  },
  {
   "cell_type": "code",
   "execution_count": 14,
   "metadata": {},
   "outputs": [
    {
     "data": {
      "text/plain": [
       "Index(['Reference Number', 'Grid Ref: Easting', 'Grid Ref: Northing',\n",
       "       'Number of Vehicles', 'Accident Date', 'Time (24hr)',\n",
       "       '1st Road Class & No', 'Road Surface', 'Lighting Conditions',\n",
       "       'Weather Conditions', 'Type of Vehicle', 'Casualty Class',\n",
       "       'Casualty Severity', 'Sex of Casualty', 'Age of Casualty'],\n",
       "      dtype='object')"
      ]
     },
     "execution_count": 14,
     "metadata": {},
     "output_type": "execute_result"
    }
   ],
   "source": [
    "list_col = data.columns\n",
    "list_col"
   ]
  },
  {
   "cell_type": "code",
   "execution_count": 15,
   "metadata": {},
   "outputs": [],
   "source": [
    "# def check_null(data, lista):\n",
    "#     print(len(lista))\n",
    "#     for i in range(0, len(lista)):\n",
    "#         print(lista[i]+\": \"+ str(data[lista[i]].isnull().any()))"
   ]
  },
  {
   "cell_type": "code",
   "execution_count": 16,
   "metadata": {
    "scrolled": true
   },
   "outputs": [],
   "source": [
    "# check_null(data, list_col)"
   ]
  },
  {
   "cell_type": "code",
   "execution_count": 17,
   "metadata": {},
   "outputs": [
    {
     "data": {
      "text/plain": [
       "Reference Number       0\n",
       "Grid Ref: Easting      0\n",
       "Grid Ref: Northing     0\n",
       "Number of Vehicles     0\n",
       "Accident Date          0\n",
       "Time (24hr)            0\n",
       "1st Road Class & No    0\n",
       "Road Surface           0\n",
       "Lighting Conditions    1\n",
       "Weather Conditions     0\n",
       "Type of Vehicle        0\n",
       "Casualty Class         0\n",
       "Casualty Severity      0\n",
       "Sex of Casualty        0\n",
       "Age of Casualty        0\n",
       "dtype: int64"
      ]
     },
     "execution_count": 17,
     "metadata": {},
     "output_type": "execute_result"
    }
   ],
   "source": [
    "data.isnull().sum()"
   ]
  },
  {
   "cell_type": "code",
   "execution_count": 18,
   "metadata": {},
   "outputs": [],
   "source": [
    "data = data.dropna()"
   ]
  },
  {
   "cell_type": "code",
   "execution_count": 19,
   "metadata": {},
   "outputs": [
    {
     "data": {
      "text/plain": [
       "(2202, 15)"
      ]
     },
     "execution_count": 19,
     "metadata": {},
     "output_type": "execute_result"
    }
   ],
   "source": [
    "check_size(data)"
   ]
  },
  {
   "cell_type": "code",
   "execution_count": 20,
   "metadata": {},
   "outputs": [],
   "source": [
    "# def check_duplicate(data, lista):\n",
    "#     print(len(lista))\n",
    "#     for i in range(0, len(lista)):\n",
    "#         print(lista[i]+\": \"+ str(data[lista[i]].isnull().any()))"
   ]
  },
  {
   "cell_type": "code",
   "execution_count": 21,
   "metadata": {},
   "outputs": [
    {
     "data": {
      "text/plain": [
       "True"
      ]
     },
     "execution_count": 21,
     "metadata": {},
     "output_type": "execute_result"
    }
   ],
   "source": [
    "data.duplicated().any()"
   ]
  },
  {
   "cell_type": "code",
   "execution_count": 22,
   "metadata": {},
   "outputs": [
    {
     "data": {
      "text/plain": [
       "15"
      ]
     },
     "execution_count": 22,
     "metadata": {},
     "output_type": "execute_result"
    }
   ],
   "source": [
    "data.duplicated().sum()"
   ]
  },
  {
   "cell_type": "code",
   "execution_count": 23,
   "metadata": {},
   "outputs": [],
   "source": [
    "data = data.drop_duplicates()"
   ]
  },
  {
   "cell_type": "code",
   "execution_count": 24,
   "metadata": {},
   "outputs": [
    {
     "data": {
      "text/plain": [
       "(2187, 15)"
      ]
     },
     "execution_count": 24,
     "metadata": {},
     "output_type": "execute_result"
    }
   ],
   "source": [
    "check_size(data)"
   ]
  },
  {
   "cell_type": "markdown",
   "metadata": {},
   "source": [
    "### Biến đổi dữ liệu "
   ]
  },
  {
   "cell_type": "markdown",
   "metadata": {},
   "source": [
    "#### Biến đổi trên trường giới tính"
   ]
  },
  {
   "cell_type": "code",
   "execution_count": 25,
   "metadata": {},
   "outputs": [
    {
     "data": {
      "text/plain": [
       "array(['Female', 'Male', '1'], dtype=object)"
      ]
     },
     "execution_count": 25,
     "metadata": {},
     "output_type": "execute_result"
    }
   ],
   "source": [
    "data['Sex of Casualty'].unique()"
   ]
  },
  {
   "cell_type": "code",
   "execution_count": 26,
   "metadata": {},
   "outputs": [
    {
     "name": "stdout",
     "output_type": "stream",
     "text": [
      "2186\n",
      "1\n"
     ]
    }
   ],
   "source": [
    "# Detecting numbers \n",
    "cnt=0\n",
    "for row in data['Sex of Casualty']:\n",
    "#     print(cnt)\n",
    "#     print(row)\n",
    "    if(row.isdigit()):\n",
    "        print(cnt)\n",
    "        print(row)\n",
    "        data.loc[cnt, 'Sex of Casualty']= np.nan\n",
    "    cnt+=1\n"
   ]
  },
  {
   "cell_type": "code",
   "execution_count": 27,
   "metadata": {},
   "outputs": [
    {
     "data": {
      "text/plain": [
       "(2187, 15)"
      ]
     },
     "execution_count": 27,
     "metadata": {},
     "output_type": "execute_result"
    }
   ],
   "source": [
    "check_size(data)"
   ]
  },
  {
   "cell_type": "code",
   "execution_count": 28,
   "metadata": {},
   "outputs": [],
   "source": [
    "data = data.dropna()"
   ]
  },
  {
   "cell_type": "code",
   "execution_count": 29,
   "metadata": {},
   "outputs": [],
   "source": [
    "data['Gender'] = data['Sex of Casualty'].map({'Female': 2, 'Male': 1})"
   ]
  },
  {
   "cell_type": "code",
   "execution_count": 30,
   "metadata": {},
   "outputs": [],
   "source": [
    "# data.head()"
   ]
  },
  {
   "cell_type": "markdown",
   "metadata": {},
   "source": [
    "####  Biến đổi trên trường ngày"
   ]
  },
  {
   "cell_type": "code",
   "execution_count": 31,
   "metadata": {},
   "outputs": [],
   "source": [
    "from datetime import datetime as dt"
   ]
  },
  {
   "cell_type": "code",
   "execution_count": 32,
   "metadata": {},
   "outputs": [],
   "source": [
    "data['Accident Date'] = pd.to_datetime(data['Accident Date'], infer_datetime_format=True)\n",
    "data['Year'], data['Month'], data['Day'] = data['Accident Date'].dt.year\\\n",
    ", data['Accident Date'].dt.month, data['Accident Date'].dt.day\n",
    "# data.head()"
   ]
  },
  {
   "cell_type": "code",
   "execution_count": 33,
   "metadata": {},
   "outputs": [],
   "source": [
    "data[\"TypeRoad\"]= data[\"1st Road Class & No\"].str[0] \n",
    "data[\"TypeRoad\"] = data[\"TypeRoad\"].map({'M': 'Motorway', 'A': 'A', 'B':'B', 'C':'C', 'U': 'Unclassified'})"
   ]
  },
  {
   "cell_type": "code",
   "execution_count": 34,
   "metadata": {},
   "outputs": [
    {
     "data": {
      "text/html": [
       "<div>\n",
       "<style scoped>\n",
       "    .dataframe tbody tr th:only-of-type {\n",
       "        vertical-align: middle;\n",
       "    }\n",
       "\n",
       "    .dataframe tbody tr th {\n",
       "        vertical-align: top;\n",
       "    }\n",
       "\n",
       "    .dataframe thead th {\n",
       "        text-align: right;\n",
       "    }\n",
       "</style>\n",
       "<table border=\"1\" class=\"dataframe\">\n",
       "  <thead>\n",
       "    <tr style=\"text-align: right;\">\n",
       "      <th></th>\n",
       "      <th>Reference Number</th>\n",
       "      <th>Grid Ref: Easting</th>\n",
       "      <th>Grid Ref: Northing</th>\n",
       "      <th>Number of Vehicles</th>\n",
       "      <th>Accident Date</th>\n",
       "      <th>Time (24hr)</th>\n",
       "      <th>1st Road Class &amp; No</th>\n",
       "      <th>Road Surface</th>\n",
       "      <th>Lighting Conditions</th>\n",
       "      <th>Weather Conditions</th>\n",
       "      <th>Type of Vehicle</th>\n",
       "      <th>Casualty Class</th>\n",
       "      <th>Casualty Severity</th>\n",
       "      <th>Sex of Casualty</th>\n",
       "      <th>Age of Casualty</th>\n",
       "      <th>Gender</th>\n",
       "      <th>Year</th>\n",
       "      <th>Month</th>\n",
       "      <th>Day</th>\n",
       "      <th>TypeRoad</th>\n",
       "    </tr>\n",
       "  </thead>\n",
       "  <tbody>\n",
       "    <tr>\n",
       "      <th>0</th>\n",
       "      <td>3AP0313</td>\n",
       "      <td>426340</td>\n",
       "      <td>428455</td>\n",
       "      <td>1</td>\n",
       "      <td>2017-03-17</td>\n",
       "      <td>815</td>\n",
       "      <td>A643</td>\n",
       "      <td>Dry</td>\n",
       "      <td>Daylight: Street lights present</td>\n",
       "      <td>Other</td>\n",
       "      <td>Car</td>\n",
       "      <td>Pedestrian</td>\n",
       "      <td>Serious</td>\n",
       "      <td>Female</td>\n",
       "      <td>61</td>\n",
       "      <td>2.0</td>\n",
       "      <td>2017</td>\n",
       "      <td>3</td>\n",
       "      <td>17</td>\n",
       "      <td>A</td>\n",
       "    </tr>\n",
       "    <tr>\n",
       "      <th>1</th>\n",
       "      <td>3BE0850</td>\n",
       "      <td>430828</td>\n",
       "      <td>433222</td>\n",
       "      <td>2</td>\n",
       "      <td>2017-01-14</td>\n",
       "      <td>1330</td>\n",
       "      <td>A61</td>\n",
       "      <td>Dry</td>\n",
       "      <td>Daylight: Street lights present</td>\n",
       "      <td>Fine without high winds</td>\n",
       "      <td>Pedal cycle</td>\n",
       "      <td>Driver or rider</td>\n",
       "      <td>Slight</td>\n",
       "      <td>Male</td>\n",
       "      <td>36</td>\n",
       "      <td>1.0</td>\n",
       "      <td>2017</td>\n",
       "      <td>1</td>\n",
       "      <td>14</td>\n",
       "      <td>A</td>\n",
       "    </tr>\n",
       "    <tr>\n",
       "      <th>2</th>\n",
       "      <td>4110858</td>\n",
       "      <td>428940</td>\n",
       "      <td>429856</td>\n",
       "      <td>2</td>\n",
       "      <td>2017-01-01</td>\n",
       "      <td>805</td>\n",
       "      <td>A653</td>\n",
       "      <td>Wet/Damp</td>\n",
       "      <td>Daylight: Street lights present</td>\n",
       "      <td>Fine without high winds</td>\n",
       "      <td>Car</td>\n",
       "      <td>Driver or rider</td>\n",
       "      <td>Slight</td>\n",
       "      <td>Male</td>\n",
       "      <td>32</td>\n",
       "      <td>1.0</td>\n",
       "      <td>2017</td>\n",
       "      <td>1</td>\n",
       "      <td>1</td>\n",
       "      <td>A</td>\n",
       "    </tr>\n",
       "    <tr>\n",
       "      <th>3</th>\n",
       "      <td>4110858</td>\n",
       "      <td>428940</td>\n",
       "      <td>429856</td>\n",
       "      <td>2</td>\n",
       "      <td>2017-01-01</td>\n",
       "      <td>805</td>\n",
       "      <td>A653</td>\n",
       "      <td>Wet/Damp</td>\n",
       "      <td>Daylight: Street lights present</td>\n",
       "      <td>Fine without high winds</td>\n",
       "      <td>Car</td>\n",
       "      <td>Driver or rider</td>\n",
       "      <td>Slight</td>\n",
       "      <td>Male</td>\n",
       "      <td>30</td>\n",
       "      <td>1.0</td>\n",
       "      <td>2017</td>\n",
       "      <td>1</td>\n",
       "      <td>1</td>\n",
       "      <td>A</td>\n",
       "    </tr>\n",
       "    <tr>\n",
       "      <th>4</th>\n",
       "      <td>4111495</td>\n",
       "      <td>429899</td>\n",
       "      <td>434277</td>\n",
       "      <td>2</td>\n",
       "      <td>2017-01-01</td>\n",
       "      <td>1705</td>\n",
       "      <td>U</td>\n",
       "      <td>Wet/Damp</td>\n",
       "      <td>Darkness: Street lights present and lit</td>\n",
       "      <td>Raining without high winds</td>\n",
       "      <td>Car</td>\n",
       "      <td>Vehicle or pillion passenger</td>\n",
       "      <td>Slight</td>\n",
       "      <td>Female</td>\n",
       "      <td>26</td>\n",
       "      <td>2.0</td>\n",
       "      <td>2017</td>\n",
       "      <td>1</td>\n",
       "      <td>1</td>\n",
       "      <td>Unclassified</td>\n",
       "    </tr>\n",
       "  </tbody>\n",
       "</table>\n",
       "</div>"
      ],
      "text/plain": [
       "  Reference Number  Grid Ref: Easting  Grid Ref: Northing  Number of Vehicles  \\\n",
       "0          3AP0313             426340              428455                   1   \n",
       "1          3BE0850             430828              433222                   2   \n",
       "2          4110858             428940              429856                   2   \n",
       "3          4110858             428940              429856                   2   \n",
       "4          4111495             429899              434277                   2   \n",
       "\n",
       "  Accident Date  Time (24hr) 1st Road Class & No Road Surface  \\\n",
       "0    2017-03-17          815                A643          Dry   \n",
       "1    2017-01-14         1330                 A61          Dry   \n",
       "2    2017-01-01          805                A653     Wet/Damp   \n",
       "3    2017-01-01          805                A653     Wet/Damp   \n",
       "4    2017-01-01         1705                   U     Wet/Damp   \n",
       "\n",
       "                       Lighting Conditions          Weather Conditions  \\\n",
       "0          Daylight: Street lights present                       Other   \n",
       "1          Daylight: Street lights present     Fine without high winds   \n",
       "2          Daylight: Street lights present     Fine without high winds   \n",
       "3          Daylight: Street lights present     Fine without high winds   \n",
       "4  Darkness: Street lights present and lit  Raining without high winds   \n",
       "\n",
       "  Type of Vehicle                Casualty Class Casualty Severity  \\\n",
       "0             Car                    Pedestrian           Serious   \n",
       "1     Pedal cycle               Driver or rider            Slight   \n",
       "2             Car               Driver or rider            Slight   \n",
       "3             Car               Driver or rider            Slight   \n",
       "4             Car  Vehicle or pillion passenger            Slight   \n",
       "\n",
       "  Sex of Casualty  Age of Casualty  Gender  Year  Month  Day      TypeRoad  \n",
       "0          Female               61     2.0  2017      3   17             A  \n",
       "1            Male               36     1.0  2017      1   14             A  \n",
       "2            Male               32     1.0  2017      1    1             A  \n",
       "3            Male               30     1.0  2017      1    1             A  \n",
       "4          Female               26     2.0  2017      1    1  Unclassified  "
      ]
     },
     "execution_count": 34,
     "metadata": {},
     "output_type": "execute_result"
    }
   ],
   "source": [
    "data.head()"
   ]
  },
  {
   "cell_type": "markdown",
   "metadata": {},
   "source": [
    "####  Biến đổi trên trường time"
   ]
  },
  {
   "cell_type": "code",
   "execution_count": 35,
   "metadata": {},
   "outputs": [],
   "source": [
    "data['Time (24hr)'] = data['Time (24hr)'].astype(str)\n",
    "data['Time (24hr)'] = data['Time (24hr)'].str.zfill(4)"
   ]
  },
  {
   "cell_type": "code",
   "execution_count": 36,
   "metadata": {},
   "outputs": [],
   "source": [
    "data[\"Hour\"]= data[\"Time (24hr)\"].str[:2]\n",
    "data[\"Minute\"] = data[\"Time (24hr)\"].str[-2:]"
   ]
  },
  {
   "cell_type": "code",
   "execution_count": 37,
   "metadata": {},
   "outputs": [
    {
     "data": {
      "text/plain": [
       "'23'"
      ]
     },
     "execution_count": 37,
     "metadata": {},
     "output_type": "execute_result"
    }
   ],
   "source": [
    "data['Hour'].max()"
   ]
  },
  {
   "cell_type": "code",
   "execution_count": 38,
   "metadata": {},
   "outputs": [
    {
     "data": {
      "text/plain": [
       "'59'"
      ]
     },
     "execution_count": 38,
     "metadata": {},
     "output_type": "execute_result"
    }
   ],
   "source": [
    "data['Minute'].max()"
   ]
  },
  {
   "cell_type": "code",
   "execution_count": 39,
   "metadata": {},
   "outputs": [
    {
     "data": {
      "text/html": [
       "<div>\n",
       "<style scoped>\n",
       "    .dataframe tbody tr th:only-of-type {\n",
       "        vertical-align: middle;\n",
       "    }\n",
       "\n",
       "    .dataframe tbody tr th {\n",
       "        vertical-align: top;\n",
       "    }\n",
       "\n",
       "    .dataframe thead th {\n",
       "        text-align: right;\n",
       "    }\n",
       "</style>\n",
       "<table border=\"1\" class=\"dataframe\">\n",
       "  <thead>\n",
       "    <tr style=\"text-align: right;\">\n",
       "      <th></th>\n",
       "      <th>Reference Number</th>\n",
       "      <th>Grid Ref: Easting</th>\n",
       "      <th>Grid Ref: Northing</th>\n",
       "      <th>Number of Vehicles</th>\n",
       "      <th>Accident Date</th>\n",
       "      <th>Time (24hr)</th>\n",
       "      <th>1st Road Class &amp; No</th>\n",
       "      <th>Road Surface</th>\n",
       "      <th>Lighting Conditions</th>\n",
       "      <th>Weather Conditions</th>\n",
       "      <th>...</th>\n",
       "      <th>Casualty Severity</th>\n",
       "      <th>Sex of Casualty</th>\n",
       "      <th>Age of Casualty</th>\n",
       "      <th>Gender</th>\n",
       "      <th>Year</th>\n",
       "      <th>Month</th>\n",
       "      <th>Day</th>\n",
       "      <th>TypeRoad</th>\n",
       "      <th>Hour</th>\n",
       "      <th>Minute</th>\n",
       "    </tr>\n",
       "  </thead>\n",
       "  <tbody>\n",
       "    <tr>\n",
       "      <th>0</th>\n",
       "      <td>3AP0313</td>\n",
       "      <td>426340</td>\n",
       "      <td>428455</td>\n",
       "      <td>1</td>\n",
       "      <td>2017-03-17</td>\n",
       "      <td>0815</td>\n",
       "      <td>A643</td>\n",
       "      <td>Dry</td>\n",
       "      <td>Daylight: Street lights present</td>\n",
       "      <td>Other</td>\n",
       "      <td>...</td>\n",
       "      <td>Serious</td>\n",
       "      <td>Female</td>\n",
       "      <td>61</td>\n",
       "      <td>2.0</td>\n",
       "      <td>2017</td>\n",
       "      <td>3</td>\n",
       "      <td>17</td>\n",
       "      <td>A</td>\n",
       "      <td>08</td>\n",
       "      <td>15</td>\n",
       "    </tr>\n",
       "    <tr>\n",
       "      <th>1</th>\n",
       "      <td>3BE0850</td>\n",
       "      <td>430828</td>\n",
       "      <td>433222</td>\n",
       "      <td>2</td>\n",
       "      <td>2017-01-14</td>\n",
       "      <td>1330</td>\n",
       "      <td>A61</td>\n",
       "      <td>Dry</td>\n",
       "      <td>Daylight: Street lights present</td>\n",
       "      <td>Fine without high winds</td>\n",
       "      <td>...</td>\n",
       "      <td>Slight</td>\n",
       "      <td>Male</td>\n",
       "      <td>36</td>\n",
       "      <td>1.0</td>\n",
       "      <td>2017</td>\n",
       "      <td>1</td>\n",
       "      <td>14</td>\n",
       "      <td>A</td>\n",
       "      <td>13</td>\n",
       "      <td>30</td>\n",
       "    </tr>\n",
       "    <tr>\n",
       "      <th>2</th>\n",
       "      <td>4110858</td>\n",
       "      <td>428940</td>\n",
       "      <td>429856</td>\n",
       "      <td>2</td>\n",
       "      <td>2017-01-01</td>\n",
       "      <td>0805</td>\n",
       "      <td>A653</td>\n",
       "      <td>Wet/Damp</td>\n",
       "      <td>Daylight: Street lights present</td>\n",
       "      <td>Fine without high winds</td>\n",
       "      <td>...</td>\n",
       "      <td>Slight</td>\n",
       "      <td>Male</td>\n",
       "      <td>32</td>\n",
       "      <td>1.0</td>\n",
       "      <td>2017</td>\n",
       "      <td>1</td>\n",
       "      <td>1</td>\n",
       "      <td>A</td>\n",
       "      <td>08</td>\n",
       "      <td>05</td>\n",
       "    </tr>\n",
       "    <tr>\n",
       "      <th>3</th>\n",
       "      <td>4110858</td>\n",
       "      <td>428940</td>\n",
       "      <td>429856</td>\n",
       "      <td>2</td>\n",
       "      <td>2017-01-01</td>\n",
       "      <td>0805</td>\n",
       "      <td>A653</td>\n",
       "      <td>Wet/Damp</td>\n",
       "      <td>Daylight: Street lights present</td>\n",
       "      <td>Fine without high winds</td>\n",
       "      <td>...</td>\n",
       "      <td>Slight</td>\n",
       "      <td>Male</td>\n",
       "      <td>30</td>\n",
       "      <td>1.0</td>\n",
       "      <td>2017</td>\n",
       "      <td>1</td>\n",
       "      <td>1</td>\n",
       "      <td>A</td>\n",
       "      <td>08</td>\n",
       "      <td>05</td>\n",
       "    </tr>\n",
       "    <tr>\n",
       "      <th>4</th>\n",
       "      <td>4111495</td>\n",
       "      <td>429899</td>\n",
       "      <td>434277</td>\n",
       "      <td>2</td>\n",
       "      <td>2017-01-01</td>\n",
       "      <td>1705</td>\n",
       "      <td>U</td>\n",
       "      <td>Wet/Damp</td>\n",
       "      <td>Darkness: Street lights present and lit</td>\n",
       "      <td>Raining without high winds</td>\n",
       "      <td>...</td>\n",
       "      <td>Slight</td>\n",
       "      <td>Female</td>\n",
       "      <td>26</td>\n",
       "      <td>2.0</td>\n",
       "      <td>2017</td>\n",
       "      <td>1</td>\n",
       "      <td>1</td>\n",
       "      <td>Unclassified</td>\n",
       "      <td>17</td>\n",
       "      <td>05</td>\n",
       "    </tr>\n",
       "  </tbody>\n",
       "</table>\n",
       "<p>5 rows × 22 columns</p>\n",
       "</div>"
      ],
      "text/plain": [
       "  Reference Number  Grid Ref: Easting  Grid Ref: Northing  Number of Vehicles  \\\n",
       "0          3AP0313             426340              428455                   1   \n",
       "1          3BE0850             430828              433222                   2   \n",
       "2          4110858             428940              429856                   2   \n",
       "3          4110858             428940              429856                   2   \n",
       "4          4111495             429899              434277                   2   \n",
       "\n",
       "  Accident Date Time (24hr) 1st Road Class & No Road Surface  \\\n",
       "0    2017-03-17        0815                A643          Dry   \n",
       "1    2017-01-14        1330                 A61          Dry   \n",
       "2    2017-01-01        0805                A653     Wet/Damp   \n",
       "3    2017-01-01        0805                A653     Wet/Damp   \n",
       "4    2017-01-01        1705                   U     Wet/Damp   \n",
       "\n",
       "                       Lighting Conditions          Weather Conditions  ...    \\\n",
       "0          Daylight: Street lights present                       Other  ...     \n",
       "1          Daylight: Street lights present     Fine without high winds  ...     \n",
       "2          Daylight: Street lights present     Fine without high winds  ...     \n",
       "3          Daylight: Street lights present     Fine without high winds  ...     \n",
       "4  Darkness: Street lights present and lit  Raining without high winds  ...     \n",
       "\n",
       "  Casualty Severity Sex of Casualty Age of Casualty Gender  Year  Month  Day  \\\n",
       "0           Serious          Female              61    2.0  2017      3   17   \n",
       "1            Slight            Male              36    1.0  2017      1   14   \n",
       "2            Slight            Male              32    1.0  2017      1    1   \n",
       "3            Slight            Male              30    1.0  2017      1    1   \n",
       "4            Slight          Female              26    2.0  2017      1    1   \n",
       "\n",
       "       TypeRoad  Hour Minute  \n",
       "0             A    08     15  \n",
       "1             A    13     30  \n",
       "2             A    08     05  \n",
       "3             A    08     05  \n",
       "4  Unclassified    17     05  \n",
       "\n",
       "[5 rows x 22 columns]"
      ]
     },
     "execution_count": 39,
     "metadata": {},
     "output_type": "execute_result"
    }
   ],
   "source": [
    "data.head()"
   ]
  },
  {
   "cell_type": "code",
   "execution_count": 40,
   "metadata": {},
   "outputs": [],
   "source": [
    "data.to_csv(\"data_cleaned.csv\")"
   ]
  },
  {
   "cell_type": "code",
   "execution_count": null,
   "metadata": {},
   "outputs": [],
   "source": []
  }
 ],
 "metadata": {
  "kernelspec": {
   "display_name": "Python 3",
   "language": "python",
   "name": "python3"
  },
  "language_info": {
   "codemirror_mode": {
    "name": "ipython",
    "version": 3
   },
   "file_extension": ".py",
   "mimetype": "text/x-python",
   "name": "python",
   "nbconvert_exporter": "python",
   "pygments_lexer": "ipython3",
   "version": "3.7.1"
  }
 },
 "nbformat": 4,
 "nbformat_minor": 2
}
